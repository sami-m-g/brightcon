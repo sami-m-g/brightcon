{
 "cells": [
  {
   "cell_type": "markdown",
   "metadata": {},
   "source": [
    "<h1><font color='ECEE81'>pyecospold and pyilcd</font><h1>\n",
    "<h4><font color='8DDFCB'>Configurable developer-friendly libraries to validate, read and write pyecospold and pyilcd xml files.</font></h2>\n",
    "<h2><font color='ECEE81'>Installation</font><h2>\n",
    "<h4><i><font color='8DDFCB'>$</font> <font color='yellow'>pip</font> <font color='8DDFCB'>install pyecospold</font></i></h2>\n",
    "<img src='images/pypi_pyecospold.png' width='75%' height='100%'></im,g>\n",
    "<h4><i><font color='8DDFCB'>$</font> <font color='yellow'>pip</font> <font color='8DDFCB'>install pyilcd</font></i></h2>\n",
    "<img src='images/pypi_pyilcd.png' width='75%' height='100%'></img>\n",
    "<h2><font color='ECEE81'>Usage Examples</font><h2>\n",
    "<h2><font color='82A0D8'>pyecospold</font><h2>"
   ]
  },
  {
   "cell_type": "markdown",
   "metadata": {},
   "source": [
    "#### Imports and configuring defaults"
   ]
  },
  {
   "cell_type": "code",
   "execution_count": 1,
   "metadata": {},
   "outputs": [
    {
     "data": {
      "text/plain": [
       "{'Allocation': {'allocationMethod': '-1'},\n",
       " 'DataEntryBy': {'qualityNetwork': '1'},\n",
       " 'DataGeneratorAndPublication': {'dataPublishedIn': '0'},\n",
       " 'Dataset': {'validCompanyCodes': 'CompanyCodes.xml',\n",
       "  'validRegionalCodes': 'RegionalCodes.xml',\n",
       "  'validCategories': 'Categories.xml',\n",
       "  'validUnits': 'Units.xml'},\n",
       " 'DataSetInformation': {'impactAssessmentResult': 'false',\n",
       "  'internalVersion': '1.0',\n",
       "  'version': '1.0'},\n",
       " 'Exchange': {'uncertaintyType': '1'},\n",
       " 'FileAttributes': {'defaultLanguage': 'en'},\n",
       " 'PedigreeMatrix': {'reliability': '5'},\n",
       " 'ReferenceFunction': {'infrastructureProcess': 'true'}}"
      ]
     },
     "execution_count": 1,
     "metadata": {},
     "output_type": "execute_result"
    }
   ],
   "source": [
    "from pyecospold import parse_file_v1, save_ecopsold_file, validate_file_v1, Defaults\n",
    "\n",
    "# Override defaults if needed, else skip. Defaults are already set.\n",
    "Defaults.config_defaults(\"config/pyecospold_config.ini\")  # Replace with your own config file\n",
    "Defaults.STATIC_DEFAULTS"
   ]
  },
  {
   "cell_type": "markdown",
   "metadata": {},
   "source": [
    "#### Validating files"
   ]
  },
  {
   "cell_type": "code",
   "execution_count": 2,
   "metadata": {},
   "outputs": [
    {
     "data": {
      "text/plain": [
       "data/pyecospold_v1_invalid.xml:17:0:ERROR:SCHEMASV:SCHEMAV_CVC_DATATYPE_VALID_1_2_1: Element '{http://www.EcoInvent.org/EcoSpold01}referenceFunction', attribute 'amount': 'a' is not a valid value of the atomic type '{http://www.EcoInvent.org/EcoSpold01}TFloatNumber'."
      ]
     },
     "execution_count": 2,
     "metadata": {},
     "output_type": "execute_result"
    }
   ],
   "source": [
    "# Validate the EcoSpold class against the EcoSpold v1 schema.\n",
    "validate_file_v1(\"data/pyecospold_v1_invalid.xml\")"
   ]
  },
  {
   "cell_type": "markdown",
   "metadata": {},
   "source": [
    "#### Reading files"
   ]
  },
  {
   "cell_type": "code",
   "execution_count": 3,
   "metadata": {},
   "outputs": [],
   "source": [
    "# Parse the required XML file to EcoSpold class.\n",
    "ecoSpold = parse_file_v1(\"data/pyecospold_v1.xml\")  # Replace with your own XML file"
   ]
  },
  {
   "cell_type": "markdown",
   "metadata": {},
   "source": [
    "#### Reading attributes"
   ]
  },
  {
   "cell_type": "code",
   "execution_count": 4,
   "metadata": {},
   "outputs": [
    {
     "data": {
      "text/plain": [
       "1.0"
      ]
     },
     "execution_count": 4,
     "metadata": {},
     "output_type": "execute_result"
    }
   ],
   "source": [
    "referenceFunction = ecoSpold.datasets[0].metaInformation.processInformation.referenceFunction\n",
    "referenceFunction.amount"
   ]
  },
  {
   "cell_type": "markdown",
   "metadata": {},
   "source": [
    "#### Setting attributes"
   ]
  },
  {
   "cell_type": "code",
   "execution_count": 5,
   "metadata": {},
   "outputs": [
    {
     "data": {
      "text/plain": [
       "2.0"
      ]
     },
     "execution_count": 5,
     "metadata": {},
     "output_type": "execute_result"
    }
   ],
   "source": [
    "referenceFunction.amount = 2.0\n",
    "referenceFunction.amount"
   ]
  },
  {
   "cell_type": "markdown",
   "metadata": {},
   "source": [
    "#### Writing files"
   ]
  },
  {
   "cell_type": "code",
   "execution_count": 6,
   "metadata": {},
   "outputs": [],
   "source": [
    "# Save final EcoSpold class as an XML file, make sure root directory exists.\n",
    "save_ecopsold_file(ecoSpold, \"out/pyecospold_v1_new.xml\")  # Replace with your own path"
   ]
  },
  {
   "cell_type": "markdown",
   "metadata": {},
   "source": [
    "<h2><font color='82A0D8'>pyilcd</font><h2>"
   ]
  },
  {
   "cell_type": "markdown",
   "metadata": {},
   "source": [
    "<h1><font color='ECEE81'>Conclusions</font><h2>\n",
    "<h2><font color='82A0D8'>lxmlh</font><h2>\n",
    "<h3><font color='8DDFCB'>lxml helper Python package that accelerates custom parser libraries for new schemas.</font></h3>\n",
    "<h4><i><font color='8DDFCB'>$</font> <font color='yellow'>pip</font> <font color='8DDFCB'>install lxmlh</font></i></h2>\n",
    "<img src='images/pypi_lxmlh.png' width='75%' height='100%'></img>"
   ]
  },
  {
   "cell_type": "markdown",
   "metadata": {},
   "source": []
  }
 ],
 "metadata": {
  "kernelspec": {
   "display_name": "Python 3",
   "language": "python",
   "name": "python3"
  },
  "language_info": {
   "codemirror_mode": {
    "name": "ipython",
    "version": 3
   },
   "file_extension": ".py",
   "mimetype": "text/x-python",
   "name": "python",
   "nbconvert_exporter": "python",
   "pygments_lexer": "ipython3",
   "version": "3.10.11"
  },
  "orig_nbformat": 4
 },
 "nbformat": 4,
 "nbformat_minor": 2
}

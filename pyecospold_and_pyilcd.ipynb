{
 "cells": [
  {
   "cell_type": "markdown",
   "metadata": {},
   "source": [
    "<h1><font color='ECEE81'>pyecospold and pyilcd</font><h1>\n",
    "<h4><font color='8DDFCB'>Configurable developer-friendly libraries to parse, validate and write pyecospold and pyilcd xml files.</font></h2>\n",
    "<h2><font color='ECEE81'>Installation</font><h2>\n",
    "<h4><i><font color='8DDFCB'>$</font> <font color='yellow'>pip</font> <font color='8DDFCB'>install pyecospold</font></i></h2>\n",
    "<img src='images/pypi_pyecospold.png'></img>\n",
    "<h4><i><font color='8DDFCB'>$</font> <font color='yellow'>pip</font> <font color='8DDFCB'>install pyilcd</font></i></h2>\n",
    "<img src='images/pypi_pyilcd.png'></img>\n",
    "<h2><font color='ECEE81'>Usage Example</font><h2>\n",
    "<h2><font color='82A0D8'>pyecospold</font><h2>"
   ]
  },
  {
   "cell_type": "code",
   "execution_count": null,
   "metadata": {},
   "outputs": [],
   "source": [
    "from pyecospold import parse_file_v1, save_file, Defaults\n",
    "\n",
    "# Override defaults if needed, else skip. Defaults are already set.\n",
    "Defaults.config(\"config.ini\")  # Replace with your own config file\n",
    "\n",
    "# Parse the required XML file to EcoSpold class.\n",
    "ecoSpold = parse_file_v1(\"data/v1/v1_1.xml\")  # Replace with your own XML file\n",
    "ecoSpold\n",
    "# >> <Element {http://www.EcoInvent.org/EcoSpold01}ecoSpold at 0x24a558b6020>\n",
    "\n",
    "# Change whatever attributes you need changing.\n",
    "referenceFunction = ecoSpold.dataset.metaInformation.processInformation.referenceFunction\n",
    "referenceFunction.amount = 2.0\n",
    "referenceFunction.amount\n",
    "# >> 2.0\n",
    "\n",
    "# Save final EcoSpold class as an XML file, make sure root directory exists.\n",
    "save_file(ecoSpold, \"out/00001_new.xml\")  # Replace with your own path"
   ]
  },
  {
   "cell_type": "markdown",
   "metadata": {},
   "source": [
    "<h2><font color='82A0D8'>pyilcd</font><h2>"
   ]
  },
  {
   "cell_type": "markdown",
   "metadata": {},
   "source": [
    "<h1><font color='ECEE81'>Conclusions</font><h2>\n",
    "<h2><font color='82A0D8'>lxmlh</font><h2>\n",
    "<h4><i><font color='8DDFCB'>$</font> <font color='yellow'>pip</font> <font color='8DDFCB'>install lxmlh</font></i></h2>\n",
    "<img src='images/pypi_lxmlh.png'></img>"
   ]
  }
 ],
 "metadata": {
  "kernelspec": {
   "display_name": "Python 3",
   "language": "python",
   "name": "python3"
  },
  "language_info": {
   "codemirror_mode": {
    "name": "ipython",
    "version": 3
   },
   "file_extension": ".py",
   "mimetype": "text/x-python",
   "name": "python",
   "nbconvert_exporter": "python",
   "pygments_lexer": "ipython3",
   "version": "3.10.11"
  },
  "orig_nbformat": 4
 },
 "nbformat": 4,
 "nbformat_minor": 2
}
